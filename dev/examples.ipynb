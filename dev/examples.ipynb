{
 "cells": [
  {
   "cell_type": "markdown",
   "id": "3ed60cce-b18d-41aa-a037-b92348da1fc7",
   "metadata": {
    "id": "3ed60cce-b18d-41aa-a037-b92348da1fc7"
   },
   "source": [
    "# Variables"
   ]
  },
  {
   "cell_type": "markdown",
   "id": "62a6cc64-745c-496a-ba06-37588d8e9c27",
   "metadata": {
    "id": "62a6cc64-745c-496a-ba06-37588d8e9c27"
   },
   "source": [
    "## Strings"
   ]
  },
  {
   "cell_type": "code",
   "execution_count": 1,
   "id": "ce6f5443-42cf-456c-b260-c4b49d91b89f",
   "metadata": {
    "collapsed": true,
    "id": "ce6f5443-42cf-456c-b260-c4b49d91b89f",
    "jupyter": {
     "outputs_hidden": true
    }
   },
   "outputs": [
    {
     "name": "stdout",
     "output_type": "stream",
     "text": [
      "Kafka, Franz\n"
     ]
    }
   ],
   "source": [
    "# here are the names\n",
    "first_name = \"Franz\"\n",
    "last_name = \"Kafka\"\n",
    "print(last_name + \", \" + first_name)"
   ]
  },
  {
   "cell_type": "code",
   "execution_count": 2,
   "id": "4b8f0fee-6504-4558-b9e6-b649f5423f84",
   "metadata": {
    "collapsed": true,
    "id": "4b8f0fee-6504-4558-b9e6-b649f5423f84",
    "jupyter": {
     "outputs_hidden": true
    }
   },
   "outputs": [
    {
     "name": "stdout",
     "output_type": "stream",
     "text": [
      "Franz Kafka\n"
     ]
    }
   ],
   "source": [
    "print(f\"{first_name} {last_name}\")"
   ]
  },
  {
   "cell_type": "code",
   "execution_count": 26,
   "id": "ce264556-912a-464e-8ebd-21abcc716d80",
   "metadata": {},
   "outputs": [
    {
     "data": {
      "text/plain": [
       "'The person Franz is 20'"
      ]
     },
     "execution_count": 26,
     "metadata": {},
     "output_type": "execute_result"
    }
   ],
   "source": [
    "age = 20\n",
    "\"The person {} is {}\".format(first_name, age)"
   ]
  },
  {
   "cell_type": "code",
   "execution_count": 27,
   "id": "66fd10fa-b023-4e96-9521-4d50e22a6bec",
   "metadata": {},
   "outputs": [
    {
     "data": {
      "text/plain": [
       "'age = 20, name = Franz'"
      ]
     },
     "execution_count": 27,
     "metadata": {},
     "output_type": "execute_result"
    }
   ],
   "source": [
    "\"age = {1}, name = {0}\".format(first_name,age)"
   ]
  },
  {
   "cell_type": "markdown",
   "id": "50769aec-6eb8-4a20-b091-e28e2953187e",
   "metadata": {},
   "source": [
    "### regular expressions"
   ]
  },
  {
   "cell_type": "code",
   "execution_count": 36,
   "id": "252b5ae9-fc60-43be-b301-4898ecb3434a",
   "metadata": {},
   "outputs": [
    {
     "name": "stdout",
     "output_type": "stream",
     "text": [
      "['tes', 'tes']\n",
      "['message']\n"
     ]
    }
   ],
   "source": [
    "import re\n",
    "\n",
    "message = \"This is a test message for testing. IdCode = 2384-234.\"\n",
    "print(re.findall(\"t.s\", message))\n",
    "print(re.findall(\"m.ssage\", message))"
   ]
  },
  {
   "cell_type": "code",
   "execution_count": 37,
   "id": "01a94a76-df42-4309-8298-6b702bb33140",
   "metadata": {},
   "outputs": [
    {
     "name": "stdout",
     "output_type": "stream",
     "text": [
      "This is a test message for testing. IdCode = XXXX-XXX.\n"
     ]
    }
   ],
   "source": [
    "print(re.sub(r\"\\d\", \"X\", message))"
   ]
  },
  {
   "cell_type": "markdown",
   "id": "197313df-b742-4f59-b742-35017b392f8f",
   "metadata": {
    "id": "197313df-b742-4f59-b742-35017b392f8f"
   },
   "source": [
    "## Numbers"
   ]
  },
  {
   "cell_type": "code",
   "execution_count": 38,
   "id": "0ad6d179-5d10-444d-9825-0fca3a72cab1",
   "metadata": {
    "id": "0ad6d179-5d10-444d-9825-0fca3a72cab1"
   },
   "outputs": [],
   "source": [
    "temperature = -2"
   ]
  },
  {
   "cell_type": "code",
   "execution_count": 4,
   "id": "f8db8ca5-a7f7-4329-85da-43ffe142cc88",
   "metadata": {
    "collapsed": true,
    "id": "f8db8ca5-a7f7-4329-85da-43ffe142cc88",
    "jupyter": {
     "outputs_hidden": true
    }
   },
   "outputs": [
    {
     "data": {
      "text/plain": [
       "2.5"
      ]
     },
     "execution_count": 4,
     "metadata": {},
     "output_type": "execute_result"
    }
   ],
   "source": [
    "1 + 1.5"
   ]
  },
  {
   "cell_type": "code",
   "execution_count": 5,
   "id": "1f411547-0732-457b-862f-2a25803526b2",
   "metadata": {
    "collapsed": true,
    "id": "1f411547-0732-457b-862f-2a25803526b2",
    "jupyter": {
     "outputs_hidden": true,
     "source_hidden": true
    }
   },
   "outputs": [
    {
     "data": {
      "text/plain": [
       "6"
      ]
     },
     "execution_count": 5,
     "metadata": {},
     "output_type": "execute_result"
    }
   ],
   "source": [
    "kilometers_start = 6\n",
    "kilometers_end = 12\n",
    "distance = kilometers_end - kilometers_start\n",
    "distance"
   ]
  },
  {
   "cell_type": "code",
   "execution_count": 6,
   "id": "34026fdc-834d-429f-9be5-d081e2822c39",
   "metadata": {
    "collapsed": true,
    "id": "34026fdc-834d-429f-9be5-d081e2822c39",
    "jupyter": {
     "outputs_hidden": true,
     "source_hidden": true
    }
   },
   "outputs": [
    {
     "name": "stdout",
     "output_type": "stream",
     "text": [
      "9.0\n",
      "You reached the halfway point at 9 kilometers.\n"
     ]
    }
   ],
   "source": [
    "halfway = (distance / 2) + kilometers_start\n",
    "print(halfway)\n",
    "print(f\"You reached the halfway point at {round(halfway)} kilometers.\")"
   ]
  },
  {
   "cell_type": "code",
   "execution_count": 7,
   "id": "d196e31e-570e-4ec8-ac31-c68e989025af",
   "metadata": {
    "collapsed": true,
    "id": "d196e31e-570e-4ec8-ac31-c68e989025af",
    "jupyter": {
     "outputs_hidden": true,
     "source_hidden": true
    }
   },
   "outputs": [
    {
     "name": "stdout",
     "output_type": "stream",
     "text": [
      "You reached the halfway point at nine kilometers.\n"
     ]
    }
   ],
   "source": [
    "from num2words import num2words\n",
    "print(f\"You reached the halfway point at {num2words(halfway)} kilometers.\")"
   ]
  },
  {
   "cell_type": "code",
   "execution_count": 8,
   "id": "9c88d19d-19e9-4f20-8eed-0851d7973c34",
   "metadata": {
    "id": "9c88d19d-19e9-4f20-8eed-0851d7973c34"
   },
   "outputs": [
    {
     "name": "stdout",
     "output_type": "stream",
     "text": [
      "Bei Kilometer neun haben Sie die Halbzeit erreicht.\n"
     ]
    }
   ],
   "source": [
    "from num2words import num2words\n",
    "print(f\"Bei Kilometer {num2words(halfway, lang='de')} haben Sie die Halbzeit erreicht.\")"
   ]
  },
  {
   "cell_type": "code",
   "execution_count": 28,
   "id": "fd848810-2c70-4099-9a47-b4f1ad7b8387",
   "metadata": {},
   "outputs": [
    {
     "data": {
      "text/plain": [
       "'00123'"
      ]
     },
     "execution_count": 28,
     "metadata": {},
     "output_type": "execute_result"
    }
   ],
   "source": [
    " f\"{123:05d}\""
   ]
  },
  {
   "cell_type": "code",
   "execution_count": 29,
   "id": "c6ae578d-3d24-4976-aac2-5dd6df10c6bb",
   "metadata": {},
   "outputs": [
    {
     "data": {
      "text/plain": [
       "'  123'"
      ]
     },
     "execution_count": 29,
     "metadata": {},
     "output_type": "execute_result"
    }
   ],
   "source": [
    " f\"{123: 5d}\""
   ]
  },
  {
   "cell_type": "markdown",
   "id": "6a5fef16-711d-4e27-a464-086768db5c4a",
   "metadata": {
    "id": "6a5fef16-711d-4e27-a464-086768db5c4a",
    "jp-MarkdownHeadingCollapsed": true
   },
   "source": [
    "## Booleans"
   ]
  },
  {
   "cell_type": "code",
   "execution_count": 9,
   "id": "1592dfa7-ce28-4416-8a7b-77f9d532aeac",
   "metadata": {
    "collapsed": true,
    "id": "1592dfa7-ce28-4416-8a7b-77f9d532aeac",
    "jupyter": {
     "outputs_hidden": true,
     "source_hidden": true
    }
   },
   "outputs": [
    {
     "data": {
      "text/plain": [
       "True"
      ]
     },
     "execution_count": 9,
     "metadata": {},
     "output_type": "execute_result"
    }
   ],
   "source": [
    "is_logged_in = True\n",
    "is_logged_in"
   ]
  },
  {
   "cell_type": "code",
   "execution_count": 10,
   "id": "1d87266e-c0d4-4394-ad31-17a9638c705b",
   "metadata": {
    "collapsed": true,
    "id": "1d87266e-c0d4-4394-ad31-17a9638c705b",
    "jupyter": {
     "outputs_hidden": true,
     "source_hidden": true
    }
   },
   "outputs": [
    {
     "name": "stdout",
     "output_type": "stream",
     "text": [
      "Welcome.\n"
     ]
    }
   ],
   "source": [
    "if is_logged_in:\n",
    "    print(\"Welcome.\")\n",
    "else:\n",
    "    print(\"Please log in.\")"
   ]
  },
  {
   "cell_type": "markdown",
   "id": "2702ab04-68da-4e34-a280-6a9fc73391e2",
   "metadata": {
    "id": "2702ab04-68da-4e34-a280-6a9fc73391e2",
    "jp-MarkdownHeadingCollapsed": true
   },
   "source": [
    "## Lists"
   ]
  },
  {
   "cell_type": "code",
   "execution_count": 11,
   "id": "bee034db-c8b1-44f1-b0b5-a34744de42c1",
   "metadata": {
    "collapsed": true,
    "id": "bee034db-c8b1-44f1-b0b5-a34744de42c1",
    "jupyter": {
     "outputs_hidden": true,
     "source_hidden": true
    }
   },
   "outputs": [
    {
     "data": {
      "text/plain": [
       "['red', 'blue', 'green']"
      ]
     },
     "execution_count": 11,
     "metadata": {},
     "output_type": "execute_result"
    }
   ],
   "source": [
    "colors = [\"red\", \"blue\", \"green\"]\n",
    "colors"
   ]
  },
  {
   "cell_type": "code",
   "execution_count": 12,
   "id": "4b736929-bfd0-4cf2-afdc-62c14d9e84f9",
   "metadata": {
    "collapsed": true,
    "id": "4b736929-bfd0-4cf2-afdc-62c14d9e84f9",
    "jupyter": {
     "outputs_hidden": true,
     "source_hidden": true
    }
   },
   "outputs": [
    {
     "data": {
      "text/plain": [
       "['red', 'blue', 'green', 'yellow']"
      ]
     },
     "execution_count": 12,
     "metadata": {},
     "output_type": "execute_result"
    }
   ],
   "source": [
    "colors.append(\"yellow\")\n",
    "colors"
   ]
  },
  {
   "cell_type": "code",
   "execution_count": 13,
   "id": "624ea4dd-7909-4c5a-9a5e-4f81c6d61eaf",
   "metadata": {
    "collapsed": true,
    "id": "624ea4dd-7909-4c5a-9a5e-4f81c6d61eaf",
    "jupyter": {
     "outputs_hidden": true,
     "source_hidden": true
    }
   },
   "outputs": [
    {
     "data": {
      "text/plain": [
       "['red', 'blue', 'green']"
      ]
     },
     "execution_count": 13,
     "metadata": {},
     "output_type": "execute_result"
    }
   ],
   "source": [
    "colors.pop()\n",
    "colors"
   ]
  },
  {
   "cell_type": "markdown",
   "id": "7fe7bf89-6344-4b69-a1de-1fe571e7a175",
   "metadata": {
    "id": "7fe7bf89-6344-4b69-a1de-1fe571e7a175",
    "jp-MarkdownHeadingCollapsed": true
   },
   "source": [
    "## Dictionaries"
   ]
  },
  {
   "cell_type": "code",
   "execution_count": 14,
   "id": "cae63fdd-9c6a-4d1d-8929-4aebe811f8bd",
   "metadata": {
    "collapsed": true,
    "id": "cae63fdd-9c6a-4d1d-8929-4aebe811f8bd",
    "jupyter": {
     "outputs_hidden": true,
     "source_hidden": true
    }
   },
   "outputs": [
    {
     "name": "stdout",
     "output_type": "stream",
     "text": [
      "{\n",
      "  \"name\": \"Hans\",\n",
      "  \"age\": 34,\n",
      "  \"is_registered\": false\n",
      "}\n"
     ]
    }
   ],
   "source": [
    "import json\n",
    "\n",
    "person = {\n",
    "    \"name\": \"Hans\",\n",
    "    \"age\": 34,\n",
    "    \"is_registered\": False,\n",
    "}\n",
    "print(json.dumps(person, indent=2))"
   ]
  },
  {
   "cell_type": "code",
   "execution_count": 15,
   "id": "cd2c77ab-7d13-47c8-91dc-55ceb1041142",
   "metadata": {
    "collapsed": true,
    "id": "cd2c77ab-7d13-47c8-91dc-55ceb1041142",
    "jupyter": {
     "outputs_hidden": true,
     "source_hidden": true
    }
   },
   "outputs": [
    {
     "data": {
      "text/plain": [
       "['Python', 'Data Analysis']"
      ]
     },
     "execution_count": 15,
     "metadata": {},
     "output_type": "execute_result"
    }
   ],
   "source": [
    "person2 = {\n",
    "    \"name\": \"Alice\",\n",
    "    \"age\": 30,\n",
    "    \"address\": {\n",
    "        \"street\": \"123 Main St\",\n",
    "        \"city\": \"New York\",\n",
    "        \"zip\": \"83838\"\n",
    "    },\n",
    "    \"skills\": [\"Python\", \"Data Analysis\"]\n",
    "}\n",
    "person2['skills']"
   ]
  },
  {
   "cell_type": "code",
   "execution_count": 16,
   "id": "0ce90f55-9826-4eba-847f-b5662d7471dd",
   "metadata": {
    "collapsed": true,
    "id": "0ce90f55-9826-4eba-847f-b5662d7471dd",
    "jupyter": {
     "outputs_hidden": true,
     "source_hidden": true
    }
   },
   "outputs": [
    {
     "data": {
      "text/plain": [
       "{'street': '123 Main St', 'city': 'New York', 'zip': '83838'}"
      ]
     },
     "execution_count": 16,
     "metadata": {},
     "output_type": "execute_result"
    }
   ],
   "source": [
    "person2['address']"
   ]
  },
  {
   "cell_type": "code",
   "execution_count": 17,
   "id": "edfa58ab-eca0-46f7-876f-1d061e006be7",
   "metadata": {
    "collapsed": true,
    "id": "edfa58ab-eca0-46f7-876f-1d061e006be7",
    "jupyter": {
     "outputs_hidden": true,
     "source_hidden": true
    },
    "scrolled": true
   },
   "outputs": [
    {
     "name": "stdout",
     "output_type": "stream",
     "text": [
      "{\n",
      "  \"street\": \"123 Main St\",\n",
      "  \"city\": \"New York\",\n",
      "  \"zip\": \"83838\"\n",
      "}\n"
     ]
    }
   ],
   "source": [
    "print(json.dumps(person2['address'], indent=2))"
   ]
  },
  {
   "cell_type": "code",
   "execution_count": 18,
   "id": "0c8e244c-2989-42e6-85dd-9dce31eb9636",
   "metadata": {
    "collapsed": true,
    "id": "0c8e244c-2989-42e6-85dd-9dce31eb9636",
    "jupyter": {
     "outputs_hidden": true,
     "source_hidden": true
    }
   },
   "outputs": [
    {
     "name": "stdout",
     "output_type": "stream",
     "text": [
      "Alice has 2 skills: Python, Data Analysis\n"
     ]
    }
   ],
   "source": [
    "print(f\"{person2['name']} has {len(person2['skills'])} skills: {', '.join(person2['skills'])}\")"
   ]
  },
  {
   "cell_type": "markdown",
   "id": "6e32dc3b-bdc0-4870-afcc-3b1ae3ae7466",
   "metadata": {
    "id": "6e32dc3b-bdc0-4870-afcc-3b1ae3ae7466"
   },
   "source": [
    "## Functions"
   ]
  },
  {
   "cell_type": "markdown",
   "id": "431ee714-b51f-4240-b95d-b391a728797c",
   "metadata": {
    "id": "431ee714-b51f-4240-b95d-b391a728797c"
   },
   "source": [
    "*Functions are **reusable** blocks of code that perform a **specific task** when called, helping you **avoid repetition** and organize your code** logically.*"
   ]
  },
  {
   "cell_type": "code",
   "execution_count": 19,
   "id": "f27ef05e-f190-4ecb-85cc-5930f2806201",
   "metadata": {
    "collapsed": true,
    "id": "f27ef05e-f190-4ecb-85cc-5930f2806201",
    "jupyter": {
     "outputs_hidden": true,
     "source_hidden": true
    }
   },
   "outputs": [],
   "source": [
    "def add(a,b):\n",
    "    return a + b"
   ]
  },
  {
   "cell_type": "code",
   "execution_count": 23,
   "id": "9d02660d-e96a-4eee-89ae-c63983ef8d11",
   "metadata": {
    "collapsed": true,
    "id": "9d02660d-e96a-4eee-89ae-c63983ef8d11",
    "jupyter": {
     "outputs_hidden": true,
     "source_hidden": true
    }
   },
   "outputs": [
    {
     "data": {
      "text/plain": [
       "10"
      ]
     },
     "execution_count": 23,
     "metadata": {},
     "output_type": "execute_result"
    }
   ],
   "source": [
    "add(4,6)"
   ]
  },
  {
   "cell_type": "code",
   "execution_count": 21,
   "id": "e1aa41a6-dbd7-4ca4-9a14-81ca4d37eb80",
   "metadata": {
    "collapsed": true,
    "id": "e1aa41a6-dbd7-4ca4-9a14-81ca4d37eb80",
    "jupyter": {
     "outputs_hidden": true,
     "source_hidden": true
    }
   },
   "outputs": [
    {
     "data": {
      "text/plain": [
       "20"
      ]
     },
     "execution_count": 21,
     "metadata": {},
     "output_type": "execute_result"
    }
   ],
   "source": [
    "add(11,9)"
   ]
  },
  {
   "cell_type": "markdown",
   "id": "4f34287f-3636-4194-907b-95fe693a4458",
   "metadata": {},
   "source": [
    "# Iterators"
   ]
  },
  {
   "cell_type": "markdown",
   "id": "073f5770-9236-4ddc-8c26-f1d165546b96",
   "metadata": {},
   "source": [
    "## Synchronous iterator"
   ]
  },
  {
   "cell_type": "code",
   "execution_count": 6,
   "id": "452b0ef2-bf70-47ff-8618-b0ab7866e035",
   "metadata": {},
   "outputs": [
    {
     "name": "stdout",
     "output_type": "stream",
     "text": [
      "1\n",
      "2\n",
      "3\n",
      "4\n",
      "5\n"
     ]
    }
   ],
   "source": [
    "class TheCounter:\n",
    "    def __init__(self, start, finish):\n",
    "        self.start = start\n",
    "        self.finish = finish\n",
    "        self.current = start\n",
    "\n",
    "    def __iter__(self):\n",
    "        return self\n",
    "\n",
    "    def __next__(self):\n",
    "        if self.current > self.finish:\n",
    "            raise StopIteration\n",
    "        value = self.current\n",
    "        self.current += 1\n",
    "        return value\n",
    "\n",
    "for num in TheCounter(1,5):\n",
    "    print (num)\n"
   ]
  },
  {
   "cell_type": "markdown",
   "id": "f3b8e8e0-4ae9-41ce-b72d-b003ae57c547",
   "metadata": {},
   "source": [
    "## Asynchronous Iterator"
   ]
  },
  {
   "cell_type": "code",
   "execution_count": 13,
   "id": "ac226b41-f6f0-4a04-9807-5403ff18fb6e",
   "metadata": {},
   "outputs": [
    {
     "name": "stdout",
     "output_type": "stream",
     "text": [
      "1\n",
      "2\n",
      "3\n",
      "4\n",
      "5\n"
     ]
    }
   ],
   "source": [
    "import asyncio\n",
    "\n",
    "class TheAsyncCounter:\n",
    "    def __init__(self, start, finish):\n",
    "        self.start = start\n",
    "        self.finish = finish\n",
    "        self.current = start\n",
    "\n",
    "    def __aiter__(self):\n",
    "        return self\n",
    "\n",
    "    async def __anext__(self):\n",
    "        if self.current > self.finish:\n",
    "            raise StopAsyncIteration\n",
    "        value = self.current\n",
    "        self.current += 1\n",
    "        await asyncio.sleep(0.5) # simulate processing time\n",
    "        return value\n",
    "\n",
    "async def main():\n",
    "    async for num in TheAsyncCounter(1,5):\n",
    "        print (num)\n",
    "\n",
    "## asyncio.run(main())\n",
    "await main()"
   ]
  },
  {
   "cell_type": "markdown",
   "id": "f8c849e6-d15b-4380-abaa-2612bef792b6",
   "metadata": {},
   "source": [
    "# Pandas"
   ]
  },
  {
   "cell_type": "code",
   "execution_count": 22,
   "id": "2e4df17e-f2c0-4cbe-95f4-d75dc0277c13",
   "metadata": {
    "collapsed": true,
    "jupyter": {
     "outputs_hidden": true,
     "source_hidden": true
    }
   },
   "outputs": [],
   "source": [
    "import pandas as pd\n"
   ]
  }
 ],
 "metadata": {
  "colab": {
   "provenance": []
  },
  "kernelspec": {
   "display_name": "Python (Dpod site)",
   "language": "python",
   "name": "dpodsitevenv"
  },
  "language_info": {
   "codemirror_mode": {
    "name": "ipython",
    "version": 3
   },
   "file_extension": ".py",
   "mimetype": "text/x-python",
   "name": "python",
   "nbconvert_exporter": "python",
   "pygments_lexer": "ipython3",
   "version": "3.12.2"
  }
 },
 "nbformat": 4,
 "nbformat_minor": 5
}
