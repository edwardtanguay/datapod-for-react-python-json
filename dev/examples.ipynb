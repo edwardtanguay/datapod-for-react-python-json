{
  "cells": [
    {
      "cell_type": "markdown",
      "id": "3ed60cce-b18d-41aa-a037-b92348da1fc7",
      "metadata": {
        "id": "3ed60cce-b18d-41aa-a037-b92348da1fc7"
      },
      "source": [
        "# Variables"
      ]
    },
    {
      "cell_type": "markdown",
      "id": "62a6cc64-745c-496a-ba06-37588d8e9c27",
      "metadata": {
        "id": "62a6cc64-745c-496a-ba06-37588d8e9c27"
      },
      "source": [
        "## Strings"
      ]
    },
    {
      "cell_type": "code",
      "execution_count": null,
      "id": "ce6f5443-42cf-456c-b260-c4b49d91b89f",
      "metadata": {
        "id": "ce6f5443-42cf-456c-b260-c4b49d91b89f"
      },
      "outputs": [],
      "source": [
        "# here are the names\n",
        "first_name = \"Franz\"\n",
        "last_name = \"Kafka\"\n",
        "print(last_name + \", \" + first_name)"
      ]
    },
    {
      "cell_type": "code",
      "execution_count": null,
      "id": "4b8f0fee-6504-4558-b9e6-b649f5423f84",
      "metadata": {
        "id": "4b8f0fee-6504-4558-b9e6-b649f5423f84"
      },
      "outputs": [],
      "source": [
        "print(f\"{first_name} {last_name}\")"
      ]
    },
    {
      "cell_type": "markdown",
      "id": "197313df-b742-4f59-b742-35017b392f8f",
      "metadata": {
        "id": "197313df-b742-4f59-b742-35017b392f8f"
      },
      "source": [
        "## Numbers"
      ]
    },
    {
      "cell_type": "code",
      "execution_count": null,
      "id": "0ad6d179-5d10-444d-9825-0fca3a72cab1",
      "metadata": {
        "id": "0ad6d179-5d10-444d-9825-0fca3a72cab1"
      },
      "outputs": [],
      "source": [
        "temperature = -2"
      ]
    },
    {
      "cell_type": "code",
      "execution_count": null,
      "id": "f8db8ca5-a7f7-4329-85da-43ffe142cc88",
      "metadata": {
        "id": "f8db8ca5-a7f7-4329-85da-43ffe142cc88"
      },
      "outputs": [],
      "source": [
        "1 + 1.5"
      ]
    },
    {
      "cell_type": "code",
      "execution_count": null,
      "id": "1f411547-0732-457b-862f-2a25803526b2",
      "metadata": {
        "id": "1f411547-0732-457b-862f-2a25803526b2"
      },
      "outputs": [],
      "source": [
        "kilometers_start = 6\n",
        "kilometers_end = 12\n",
        "distance = kilometers_end - kilometers_start\n",
        "distance"
      ]
    },
    {
      "cell_type": "code",
      "execution_count": null,
      "id": "34026fdc-834d-429f-9be5-d081e2822c39",
      "metadata": {
        "id": "34026fdc-834d-429f-9be5-d081e2822c39"
      },
      "outputs": [],
      "source": [
        "halfway = (distance / 2) + kilometers_start\n",
        "print(halfway)\n",
        "print(f\"You reached the halfway point at {round(halfway)} kilometers.\")"
      ]
    },
    {
      "cell_type": "code",
      "execution_count": null,
      "id": "d196e31e-570e-4ec8-ac31-c68e989025af",
      "metadata": {
        "id": "d196e31e-570e-4ec8-ac31-c68e989025af"
      },
      "outputs": [],
      "source": [
        "from num2words import num2words\n",
        "print(f\"You reached the halfway point at {num2words(halfway)} kilometers.\")"
      ]
    },
    {
      "cell_type": "code",
      "execution_count": null,
      "id": "9c88d19d-19e9-4f20-8eed-0851d7973c34",
      "metadata": {
        "id": "9c88d19d-19e9-4f20-8eed-0851d7973c34"
      },
      "outputs": [],
      "source": [
        "from num2words import num2words\n",
        "print(f\"Bei Kilometer {num2words(halfway, lang='de')} haben Sie die Halbzeit erreicht.\")"
      ]
    },
    {
      "cell_type": "markdown",
      "id": "6a5fef16-711d-4e27-a464-086768db5c4a",
      "metadata": {
        "jp-MarkdownHeadingCollapsed": true,
        "id": "6a5fef16-711d-4e27-a464-086768db5c4a"
      },
      "source": [
        "## Booleans"
      ]
    },
    {
      "cell_type": "code",
      "execution_count": null,
      "id": "1592dfa7-ce28-4416-8a7b-77f9d532aeac",
      "metadata": {
        "id": "1592dfa7-ce28-4416-8a7b-77f9d532aeac"
      },
      "outputs": [],
      "source": [
        "is_logged_in = True\n",
        "is_logged_in"
      ]
    },
    {
      "cell_type": "code",
      "execution_count": null,
      "id": "1d87266e-c0d4-4394-ad31-17a9638c705b",
      "metadata": {
        "id": "1d87266e-c0d4-4394-ad31-17a9638c705b"
      },
      "outputs": [],
      "source": [
        "if is_logged_in:\n",
        "    print(\"Welcome.\")\n",
        "else:\n",
        "    print(\"Please log in.\")"
      ]
    },
    {
      "cell_type": "markdown",
      "id": "2702ab04-68da-4e34-a280-6a9fc73391e2",
      "metadata": {
        "jp-MarkdownHeadingCollapsed": true,
        "id": "2702ab04-68da-4e34-a280-6a9fc73391e2"
      },
      "source": [
        "## Lists"
      ]
    },
    {
      "cell_type": "code",
      "execution_count": null,
      "id": "bee034db-c8b1-44f1-b0b5-a34744de42c1",
      "metadata": {
        "id": "bee034db-c8b1-44f1-b0b5-a34744de42c1"
      },
      "outputs": [],
      "source": [
        "colors = [\"red\", \"blue\", \"green\"]\n",
        "colors"
      ]
    },
    {
      "cell_type": "code",
      "execution_count": null,
      "id": "4b736929-bfd0-4cf2-afdc-62c14d9e84f9",
      "metadata": {
        "id": "4b736929-bfd0-4cf2-afdc-62c14d9e84f9"
      },
      "outputs": [],
      "source": [
        "colors.append(\"yellow\")\n",
        "colors"
      ]
    },
    {
      "cell_type": "code",
      "execution_count": null,
      "id": "624ea4dd-7909-4c5a-9a5e-4f81c6d61eaf",
      "metadata": {
        "id": "624ea4dd-7909-4c5a-9a5e-4f81c6d61eaf"
      },
      "outputs": [],
      "source": [
        "colors.pop()\n",
        "colors"
      ]
    },
    {
      "cell_type": "markdown",
      "id": "7fe7bf89-6344-4b69-a1de-1fe571e7a175",
      "metadata": {
        "jp-MarkdownHeadingCollapsed": true,
        "id": "7fe7bf89-6344-4b69-a1de-1fe571e7a175"
      },
      "source": [
        "## Dictionaries"
      ]
    },
    {
      "cell_type": "code",
      "execution_count": null,
      "id": "cae63fdd-9c6a-4d1d-8929-4aebe811f8bd",
      "metadata": {
        "id": "cae63fdd-9c6a-4d1d-8929-4aebe811f8bd"
      },
      "outputs": [],
      "source": [
        "import json\n",
        "\n",
        "person = {\n",
        "    \"name\": \"Hans\",\n",
        "    \"age\": 34,\n",
        "    \"is_registered\": False,\n",
        "}\n",
        "print(json.dumps(person, indent=2))"
      ]
    },
    {
      "cell_type": "code",
      "execution_count": null,
      "id": "cd2c77ab-7d13-47c8-91dc-55ceb1041142",
      "metadata": {
        "id": "cd2c77ab-7d13-47c8-91dc-55ceb1041142"
      },
      "outputs": [],
      "source": [
        "person2 = {\n",
        "    \"name\": \"Alice\",\n",
        "    \"age\": 30,\n",
        "    \"address\": {\n",
        "        \"street\": \"123 Main St\",\n",
        "        \"city\": \"New York\",\n",
        "        \"zip\": \"83838\"\n",
        "    },\n",
        "    \"skills\": [\"Python\", \"Data Analysis\"]\n",
        "}\n",
        "person2['skills']"
      ]
    },
    {
      "cell_type": "code",
      "execution_count": null,
      "id": "0ce90f55-9826-4eba-847f-b5662d7471dd",
      "metadata": {
        "id": "0ce90f55-9826-4eba-847f-b5662d7471dd"
      },
      "outputs": [],
      "source": [
        "person2['address']"
      ]
    },
    {
      "cell_type": "code",
      "execution_count": null,
      "id": "edfa58ab-eca0-46f7-876f-1d061e006be7",
      "metadata": {
        "scrolled": true,
        "id": "edfa58ab-eca0-46f7-876f-1d061e006be7"
      },
      "outputs": [],
      "source": [
        "print(json.dumps(person2['address'], indent=2))"
      ]
    },
    {
      "cell_type": "code",
      "execution_count": null,
      "id": "0c8e244c-2989-42e6-85dd-9dce31eb9636",
      "metadata": {
        "id": "0c8e244c-2989-42e6-85dd-9dce31eb9636"
      },
      "outputs": [],
      "source": [
        "print(f\"{person2['name']} has {len(person2['skills'])} skills: {', '.join(person2['skills'])}\")"
      ]
    },
    {
      "cell_type": "markdown",
      "id": "6e32dc3b-bdc0-4870-afcc-3b1ae3ae7466",
      "metadata": {
        "jp-MarkdownHeadingCollapsed": true,
        "id": "6e32dc3b-bdc0-4870-afcc-3b1ae3ae7466"
      },
      "source": [
        "## Functions"
      ]
    },
    {
      "cell_type": "markdown",
      "id": "431ee714-b51f-4240-b95d-b391a728797c",
      "metadata": {
        "id": "431ee714-b51f-4240-b95d-b391a728797c"
      },
      "source": [
        "*Functions are **reusable** blocks of code that perform a **specific task** when called, helping you **avoid repetition** and organize your code** logically.*"
      ]
    },
    {
      "cell_type": "code",
      "execution_count": null,
      "id": "f27ef05e-f190-4ecb-85cc-5930f2806201",
      "metadata": {
        "id": "f27ef05e-f190-4ecb-85cc-5930f2806201"
      },
      "outputs": [],
      "source": [
        "def add(a,b):\n",
        "    return a + b"
      ]
    },
    {
      "cell_type": "code",
      "execution_count": null,
      "id": "9d02660d-e96a-4eee-89ae-c63983ef8d11",
      "metadata": {
        "id": "9d02660d-e96a-4eee-89ae-c63983ef8d11"
      },
      "outputs": [],
      "source": [
        "add(4,6)"
      ]
    },
    {
      "cell_type": "code",
      "execution_count": null,
      "id": "e1aa41a6-dbd7-4ca4-9a14-81ca4d37eb80",
      "metadata": {
        "id": "e1aa41a6-dbd7-4ca4-9a14-81ca4d37eb80"
      },
      "outputs": [],
      "source": [
        "add(11,9)"
      ]
    },
    {
      "cell_type": "markdown",
      "id": "90209738-8dd4-4333-b845-e83f0bf1ea74",
      "metadata": {
        "jp-MarkdownHeadingCollapsed": true,
        "id": "90209738-8dd4-4333-b845-e83f0bf1ea74"
      },
      "source": [
        "## Input"
      ]
    },
    {
      "cell_type": "markdown",
      "id": "f7cb0289-3e50-4fe6-adcd-b018b3c20d3d",
      "metadata": {
        "id": "f7cb0289-3e50-4fe6-adcd-b018b3c20d3d"
      },
      "source": [
        "*Enables you to **ask the user** for data, which is saved to a variable.*"
      ]
    },
    {
      "cell_type": "code",
      "execution_count": null,
      "id": "667ce151-909e-43ac-8cef-a75c9c34aaf0",
      "metadata": {
        "id": "667ce151-909e-43ac-8cef-a75c9c34aaf0"
      },
      "outputs": [],
      "source": [
        "name = input(\"What is your name?\")\n",
        "print(f\"Hello, {name}!\")"
      ]
    },
    {
      "cell_type": "code",
      "execution_count": null,
      "id": "90e8ed45-7446-4cde-832c-ae5a347efc08",
      "metadata": {
        "id": "90e8ed45-7446-4cde-832c-ae5a347efc08"
      },
      "outputs": [],
      "source": []
    }
  ],
  "metadata": {
    "kernelspec": {
      "display_name": "Python (Dpod site)",
      "language": "python",
      "name": "dpodsitevenv"
    },
    "language_info": {
      "codemirror_mode": {
        "name": "ipython",
        "version": 3
      },
      "file_extension": ".py",
      "mimetype": "text/x-python",
      "name": "python",
      "nbconvert_exporter": "python",
      "pygments_lexer": "ipython3",
      "version": "3.12.2"
    },
    "colab": {
      "provenance": []
    }
  },
  "nbformat": 4,
  "nbformat_minor": 5
}