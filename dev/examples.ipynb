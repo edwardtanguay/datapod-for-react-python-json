{
 "cells": [
  {
   "cell_type": "markdown",
   "id": "3ed60cce-b18d-41aa-a037-b92348da1fc7",
   "metadata": {},
   "source": [
    "# Variables"
   ]
  },
  {
   "cell_type": "markdown",
   "id": "62a6cc64-745c-496a-ba06-37588d8e9c27",
   "metadata": {
    "jp-MarkdownHeadingCollapsed": true
   },
   "source": [
    "## Strings"
   ]
  },
  {
   "cell_type": "code",
   "execution_count": 1,
   "id": "ce6f5443-42cf-456c-b260-c4b49d91b89f",
   "metadata": {},
   "outputs": [
    {
     "name": "stdout",
     "output_type": "stream",
     "text": [
      "Franz Kafka\n"
     ]
    }
   ],
   "source": [
    "first_name = \"Franz\"\n",
    "last_name = \"Kafka\"\n",
    "print(first_name + \" \" + last_name)"
   ]
  },
  {
   "cell_type": "code",
   "execution_count": 34,
   "id": "4b8f0fee-6504-4558-b9e6-b649f5423f84",
   "metadata": {},
   "outputs": [
    {
     "name": "stdout",
     "output_type": "stream",
     "text": [
      "Franz Kafka\n"
     ]
    }
   ],
   "source": [
    "print(f\"{first_name} {last_name}\")"
   ]
  },
  {
   "cell_type": "markdown",
   "id": "197313df-b742-4f59-b742-35017b392f8f",
   "metadata": {
    "jp-MarkdownHeadingCollapsed": true
   },
   "source": [
    "## Numbers"
   ]
  },
  {
   "cell_type": "code",
   "execution_count": 3,
   "id": "1f411547-0732-457b-862f-2a25803526b2",
   "metadata": {},
   "outputs": [
    {
     "data": {
      "text/plain": [
       "10"
      ]
     },
     "execution_count": 3,
     "metadata": {},
     "output_type": "execute_result"
    }
   ],
   "source": [
    "kilometers_start = 2\n",
    "kilometers_end = 12\n",
    "distance = kilometers_end - kilometers_start\n",
    "distance"
   ]
  },
  {
   "cell_type": "code",
   "execution_count": 4,
   "id": "34026fdc-834d-429f-9be5-d081e2822c39",
   "metadata": {},
   "outputs": [
    {
     "name": "stdout",
     "output_type": "stream",
     "text": [
      "7.0\n",
      "You reached the halfway point at 7 kilometers.\n"
     ]
    }
   ],
   "source": [
    "halfway = (distance / 2) + kilometers_start\n",
    "print(halfway)\n",
    "print(f\"You reached the halfway point at {round(halfway)} kilometers.\")"
   ]
  },
  {
   "cell_type": "code",
   "execution_count": 5,
   "id": "d196e31e-570e-4ec8-ac31-c68e989025af",
   "metadata": {},
   "outputs": [
    {
     "name": "stdout",
     "output_type": "stream",
     "text": [
      "You reached the halfway point at seven kilometers.\n"
     ]
    }
   ],
   "source": [
    "from num2words import num2words\n",
    "print(f\"You reached the halfway point at {num2words(halfway)} kilometers.\")"
   ]
  },
  {
   "cell_type": "code",
   "execution_count": 6,
   "id": "9c88d19d-19e9-4f20-8eed-0851d7973c34",
   "metadata": {},
   "outputs": [
    {
     "name": "stdout",
     "output_type": "stream",
     "text": [
      "Bei Kilometer sieben haben Sie die Halbzeit erreicht.\n"
     ]
    }
   ],
   "source": [
    "from num2words import num2words\n",
    "print(f\"Bei Kilometer {num2words(halfway, lang=\"de\")} haben Sie die Halbzeit erreicht.\")"
   ]
  },
  {
   "cell_type": "markdown",
   "id": "6a5fef16-711d-4e27-a464-086768db5c4a",
   "metadata": {
    "jp-MarkdownHeadingCollapsed": true
   },
   "source": [
    "## Boolean"
   ]
  },
  {
   "cell_type": "code",
   "execution_count": 31,
   "id": "1592dfa7-ce28-4416-8a7b-77f9d532aeac",
   "metadata": {},
   "outputs": [
    {
     "data": {
      "text/plain": [
       "True"
      ]
     },
     "execution_count": 31,
     "metadata": {},
     "output_type": "execute_result"
    }
   ],
   "source": [
    "is_logged_in = True\n",
    "is_logged_in"
   ]
  },
  {
   "cell_type": "code",
   "execution_count": 32,
   "id": "1d87266e-c0d4-4394-ad31-17a9638c705b",
   "metadata": {},
   "outputs": [
    {
     "name": "stdout",
     "output_type": "stream",
     "text": [
      "Welcome.\n"
     ]
    }
   ],
   "source": [
    "if is_logged_in:\n",
    "    print(\"Welcome.\")\n",
    "else:\n",
    "    print(\"Please log in.\")"
   ]
  },
  {
   "cell_type": "markdown",
   "id": "2702ab04-68da-4e34-a280-6a9fc73391e2",
   "metadata": {
    "jp-MarkdownHeadingCollapsed": true
   },
   "source": [
    "## Lists"
   ]
  },
  {
   "cell_type": "code",
   "execution_count": 26,
   "id": "bee034db-c8b1-44f1-b0b5-a34744de42c1",
   "metadata": {},
   "outputs": [
    {
     "data": {
      "text/plain": [
       "['red', 'blue', 'green']"
      ]
     },
     "execution_count": 26,
     "metadata": {},
     "output_type": "execute_result"
    }
   ],
   "source": [
    "colors = [\"red\", \"blue\", \"green\"]\n",
    "colors"
   ]
  },
  {
   "cell_type": "code",
   "execution_count": 27,
   "id": "4b736929-bfd0-4cf2-afdc-62c14d9e84f9",
   "metadata": {},
   "outputs": [
    {
     "data": {
      "text/plain": [
       "['red', 'blue', 'green', 'yellow']"
      ]
     },
     "execution_count": 27,
     "metadata": {},
     "output_type": "execute_result"
    }
   ],
   "source": [
    "colors.append(\"yellow\")\n",
    "colors"
   ]
  },
  {
   "cell_type": "code",
   "execution_count": 28,
   "id": "624ea4dd-7909-4c5a-9a5e-4f81c6d61eaf",
   "metadata": {},
   "outputs": [
    {
     "data": {
      "text/plain": [
       "['red', 'blue', 'green']"
      ]
     },
     "execution_count": 28,
     "metadata": {},
     "output_type": "execute_result"
    }
   ],
   "source": [
    "colors.pop()\n",
    "colors"
   ]
  },
  {
   "cell_type": "markdown",
   "id": "7fe7bf89-6344-4b69-a1de-1fe571e7a175",
   "metadata": {
    "jp-MarkdownHeadingCollapsed": true
   },
   "source": [
    "## Dictionaries"
   ]
  },
  {
   "cell_type": "code",
   "execution_count": 8,
   "id": "cae63fdd-9c6a-4d1d-8929-4aebe811f8bd",
   "metadata": {},
   "outputs": [
    {
     "name": "stdout",
     "output_type": "stream",
     "text": [
      "{\n",
      "  \"name\": \"Hans\",\n",
      "  \"age\": 34,\n",
      "  \"is_registered\": false\n",
      "}\n"
     ]
    }
   ],
   "source": [
    "import json\n",
    "\n",
    "person = {\n",
    "    \"name\": \"Hans\",\n",
    "    \"age\": 34,\n",
    "    \"is_registered\": False,\n",
    "}\n",
    "print(json.dumps(person, indent=2))"
   ]
  },
  {
   "cell_type": "code",
   "execution_count": 9,
   "id": "cd2c77ab-7d13-47c8-91dc-55ceb1041142",
   "metadata": {},
   "outputs": [
    {
     "data": {
      "text/plain": [
       "['Python', 'Data Analysis']"
      ]
     },
     "execution_count": 9,
     "metadata": {},
     "output_type": "execute_result"
    }
   ],
   "source": [
    "person2 = {\n",
    "    \"name\": \"Alice\",\n",
    "    \"age\": 30,\n",
    "    \"address\": {\n",
    "        \"street\": \"123 Main St\",\n",
    "        \"city\": \"New York\",\n",
    "        \"zip\": \"83838\"\n",
    "    },\n",
    "    \"skills\": [\"Python\", \"Data Analysis\"]\n",
    "}\n",
    "person2['skills']"
   ]
  },
  {
   "cell_type": "code",
   "execution_count": 10,
   "id": "0ce90f55-9826-4eba-847f-b5662d7471dd",
   "metadata": {},
   "outputs": [
    {
     "data": {
      "text/plain": [
       "{'street': '123 Main St', 'city': 'New York', 'zip': '83838'}"
      ]
     },
     "execution_count": 10,
     "metadata": {},
     "output_type": "execute_result"
    }
   ],
   "source": [
    "person2['address']"
   ]
  },
  {
   "cell_type": "code",
   "execution_count": 11,
   "id": "edfa58ab-eca0-46f7-876f-1d061e006be7",
   "metadata": {
    "scrolled": true
   },
   "outputs": [
    {
     "name": "stdout",
     "output_type": "stream",
     "text": [
      "{\n",
      "  \"street\": \"123 Main St\",\n",
      "  \"city\": \"New York\",\n",
      "  \"zip\": \"83838\"\n",
      "}\n"
     ]
    }
   ],
   "source": [
    "print(json.dumps(person2['address'], indent=2))"
   ]
  },
  {
   "cell_type": "code",
   "execution_count": 12,
   "id": "0c8e244c-2989-42e6-85dd-9dce31eb9636",
   "metadata": {},
   "outputs": [
    {
     "name": "stdout",
     "output_type": "stream",
     "text": [
      "Alice has 2 skills: Python, Data Analysis\n"
     ]
    }
   ],
   "source": [
    "print(f\"{person2['name']} has {len(person2['skills'])} skills: {\", \".join(person2['skills'])}\")"
   ]
  },
  {
   "cell_type": "code",
   "execution_count": null,
   "id": "aa7c7c9c-0025-4fdc-a33e-f55f98b74c4b",
   "metadata": {},
   "outputs": [],
   "source": []
  }
 ],
 "metadata": {
  "kernelspec": {
   "display_name": "Python (Dpod site)",
   "language": "python",
   "name": "dpodsitevenv"
  },
  "language_info": {
   "codemirror_mode": {
    "name": "ipython",
    "version": 3
   },
   "file_extension": ".py",
   "mimetype": "text/x-python",
   "name": "python",
   "nbconvert_exporter": "python",
   "pygments_lexer": "ipython3",
   "version": "3.12.2"
  }
 },
 "nbformat": 4,
 "nbformat_minor": 5
}
